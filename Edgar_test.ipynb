{
 "cells": [
  {
   "cell_type": "code",
   "execution_count": 2,
   "metadata": {},
   "outputs": [],
   "source": [
    "import requests\n",
    "import pandas as pd\n",
    "from datetime import datetime, timedelta\n",
    "import json"
   ]
  },
  {
   "cell_type": "code",
   "execution_count": 3,
   "metadata": {},
   "outputs": [],
   "source": [
    "headers = {\"User-Agent\": \"russ@sunriseanalysis.com\"}"
   ]
  },
  {
   "cell_type": "code",
   "execution_count": 4,
   "metadata": {},
   "outputs": [],
   "source": [
    "tickers_json = requests.get(\n",
    "    \"https://www.sec.gov/files/company_tickers.json\", headers=headers\n",
    ")"
   ]
  },
  {
   "cell_type": "code",
   "execution_count": 5,
   "metadata": {},
   "outputs": [],
   "source": [
    "cik_df = pd.DataFrame.from_dict(tickers_json.json(), orient=\"index\")\n",
    "\n",
    "cik_df[\"cik_str\"] = cik_df[\"cik_str\"].astype(str).str.zfill(10)"
   ]
  },
  {
   "cell_type": "code",
   "execution_count": 6,
   "metadata": {},
   "outputs": [
    {
     "data": {
      "text/plain": [
       "{'AAPL': '0000320193', 'MSFT': '0000789019', 'TSLA': '0001318605'}"
      ]
     },
     "execution_count": 6,
     "metadata": {},
     "output_type": "execute_result"
    }
   ],
   "source": [
    "tickers = [\"AAPL\", \"MSFT\", \"TSLA\"]\n",
    "ciks = {}\n",
    "for ticker in tickers:\n",
    "    cik = cik_df[cik_df[\"ticker\"] == ticker][\"cik_str\"].values[0]\n",
    "    ciks[ticker] = cik\n",
    "\n",
    "cik = ciks[\"AAPL\"]    \n",
    "ciks"
   ]
  },
  {
   "cell_type": "code",
   "execution_count": 7,
   "metadata": {},
   "outputs": [],
   "source": [
    "cik = ciks[\"AAPL\"]\n",
    "concept = \"NetIncomeLoss\"\n",
    "facts_url = f\"https://data.sec.gov/api/xbrl/companyfacts/{cik}.json\"\n",
    "concept_url = f\"https://data.sec.gov/api/xbrl/companyconcept/CIK{cik}/us-gaap/{concept}.json\"\n",
    "submission_url = f\"https://data.sec.gov/api/xbrl/submission/{cik}.json\""
   ]
  },
  {
   "cell_type": "code",
   "execution_count": 10,
   "metadata": {},
   "outputs": [
    {
     "name": "stdout",
     "output_type": "stream",
     "text": [
      "https://data.sec.gov/api/xbrl/companyconcept/CIK0000320193/us-gaap/NetIncomeLoss.json\n"
     ]
    }
   ],
   "source": [
    "apple_ni = pd.DataFrame.from_dict(requests.get(concept_url, headers=headers).json())\n",
    "print(concept_url)"
   ]
  },
  {
   "cell_type": "code",
   "execution_count": 11,
   "metadata": {},
   "outputs": [
    {
     "data": {
      "text/html": [
       "<div>\n",
       "<style scoped>\n",
       "    .dataframe tbody tr th:only-of-type {\n",
       "        vertical-align: middle;\n",
       "    }\n",
       "\n",
       "    .dataframe tbody tr th {\n",
       "        vertical-align: top;\n",
       "    }\n",
       "\n",
       "    .dataframe thead th {\n",
       "        text-align: right;\n",
       "    }\n",
       "</style>\n",
       "<table border=\"1\" class=\"dataframe\">\n",
       "  <thead>\n",
       "    <tr style=\"text-align: right;\">\n",
       "      <th></th>\n",
       "      <th>cik</th>\n",
       "      <th>taxonomy</th>\n",
       "      <th>tag</th>\n",
       "      <th>label</th>\n",
       "      <th>description</th>\n",
       "      <th>entityName</th>\n",
       "      <th>units</th>\n",
       "    </tr>\n",
       "  </thead>\n",
       "  <tbody>\n",
       "    <tr>\n",
       "      <th>USD</th>\n",
       "      <td>320193</td>\n",
       "      <td>us-gaap</td>\n",
       "      <td>NetIncomeLoss</td>\n",
       "      <td>Net Income (Loss) Attributable to Parent</td>\n",
       "      <td>The portion of profit or loss for the period, ...</td>\n",
       "      <td>Apple Inc.</td>\n",
       "      <td>[{'start': '2006-10-01', 'end': '2007-09-29', ...</td>\n",
       "    </tr>\n",
       "  </tbody>\n",
       "</table>\n",
       "</div>"
      ],
      "text/plain": [
       "        cik taxonomy            tag                                     label  \\\n",
       "USD  320193  us-gaap  NetIncomeLoss  Net Income (Loss) Attributable to Parent   \n",
       "\n",
       "                                           description  entityName  \\\n",
       "USD  The portion of profit or loss for the period, ...  Apple Inc.   \n",
       "\n",
       "                                                 units  \n",
       "USD  [{'start': '2006-10-01', 'end': '2007-09-29', ...  "
      ]
     },
     "execution_count": 11,
     "metadata": {},
     "output_type": "execute_result"
    }
   ],
   "source": [
    "apple_ni.head()"
   ]
  },
  {
   "cell_type": "code",
   "execution_count": null,
   "metadata": {},
   "outputs": [],
   "source": []
  }
 ],
 "metadata": {
  "kernelspec": {
   "display_name": "Sunrise",
   "language": "python",
   "name": "python3"
  },
  "language_info": {
   "codemirror_mode": {
    "name": "ipython",
    "version": 3
   },
   "file_extension": ".py",
   "mimetype": "text/x-python",
   "name": "python",
   "nbconvert_exporter": "python",
   "pygments_lexer": "ipython3",
   "version": "3.11.4"
  },
  "orig_nbformat": 4
 },
 "nbformat": 4,
 "nbformat_minor": 2
}
