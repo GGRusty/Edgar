{
 "cells": [
  {
   "cell_type": "code",
   "execution_count": 19,
   "metadata": {},
   "outputs": [],
   "source": [
    "import xml.etree.ElementTree as ET\n",
    "import pandas as pd\n",
    "import os\n",
    "import requests\n",
    "import json\n",
    "import pprint\n",
    "import parsing_statements as ps\n",
    "\n",
    "pp = pprint.PrettyPrinter(indent=4)"
   ]
  },
  {
   "cell_type": "code",
   "execution_count": 20,
   "metadata": {},
   "outputs": [],
   "source": [
    "cik = \"0000719955\"\n",
    "headers = {\"User-Agent\": \"russ@sunriseanalysis.com\"}"
   ]
  },
  {
   "cell_type": "code",
   "execution_count": 21,
   "metadata": {},
   "outputs": [],
   "source": [
    "def get_xbrl_links(cik):\n",
    "    # Define the URL and headers\n",
    "    url = f\"https://data.sec.gov/submissions/CIK{cik}.json\"\n",
    "    headers = {\"User-Agent\": \"russ@sunriseanalysis.com\"}\n",
    "    # Make the request\n",
    "    response = requests.get(url, headers=headers)\n",
    "    if response.status_code == 200:\n",
    "        data = response.json()\n",
    "    else:\n",
    "        print(f\"Failed to get data. HTTP status code: {response.status_code}\")\n",
    "    # Extract data and filter for 10-K and 10-Q forms\n",
    "    data = pd.DataFrame(data[\"filings\"][\"recent\"])\n",
    "    data10k = data[data[\"form\"] == \"10-K\"]\n",
    "    data10q = data[data[\"form\"] == \"10-Q\"]\n",
    "\n",
    "    # Function to construct the URL\n",
    "    def construct_url(row):\n",
    "        base_url = f\"https://www.sec.gov/Archives/edgar/data/{cik}/\"\n",
    "        accession_number = row[\"accessionNumber\"].replace(\"-\", \"\")\n",
    "        primary_document = row[\"primaryDocument\"] # replace(\".\", \"_\") + \".xml\"\n",
    "        return base_url + accession_number + \"/\" + primary_document\n",
    "\n",
    "    # Construct the URLs for \"10-K\" and \"10-Q\" forms\n",
    "    urls_10k = data10k.apply(construct_url, axis=1).tolist()\n",
    "    urls_10q = data10q.apply(construct_url, axis=1).tolist()\n",
    "\n",
    "    return urls_10k, urls_10q"
   ]
  },
  {
   "cell_type": "code",
   "execution_count": 22,
   "metadata": {},
   "outputs": [],
   "source": [
    "url10k, url10q = get_xbrl_links(cik)"
   ]
  },
  {
   "cell_type": "code",
   "execution_count": 23,
   "metadata": {},
   "outputs": [
    {
     "data": {
      "text/plain": [
       "['https://www.sec.gov/Archives/edgar/data/0000719955/000162828023009175/wsm-20230129.htm',\n",
       " 'https://www.sec.gov/Archives/edgar/data/0000719955/000162828022007494/wsm-20220130.htm',\n",
       " 'https://www.sec.gov/Archives/edgar/data/0000719955/000119312521100319/d93631d10k.htm',\n",
       " 'https://www.sec.gov/Archives/edgar/data/0000719955/000119312520088937/d856872d10k.htm',\n",
       " 'https://www.sec.gov/Archives/edgar/data/0000719955/000119312519097973/d683578d10k.htm',\n",
       " 'https://www.sec.gov/Archives/edgar/data/0000719955/000119312518102232/d689546d10k.htm',\n",
       " 'https://www.sec.gov/Archives/edgar/data/0000719955/000119312517104341/d265187d10k.htm',\n",
       " 'https://www.sec.gov/Archives/edgar/data/0000719955/000119312516525847/d120289d10k.htm',\n",
       " 'https://www.sec.gov/Archives/edgar/data/0000719955/000119312515118009/d851953d10k.htm',\n",
       " 'https://www.sec.gov/Archives/edgar/data/0000719955/000119312514129974/d659151d10k.htm',\n",
       " 'https://www.sec.gov/Archives/edgar/data/0000719955/000119312513142309/d465401d10k.htm',\n",
       " 'https://www.sec.gov/Archives/edgar/data/0000719955/000119312512140070/d287202d10k.htm',\n",
       " 'https://www.sec.gov/Archives/edgar/data/0000719955/000119312511085046/d10k.htm',\n",
       " 'https://www.sec.gov/Archives/edgar/data/0000719955/000119312510075151/d10k.htm']"
      ]
     },
     "execution_count": 23,
     "metadata": {},
     "output_type": "execute_result"
    }
   ],
   "source": [
    "url10k"
   ]
  },
  {
   "cell_type": "code",
   "execution_count": 24,
   "metadata": {},
   "outputs": [
    {
     "data": {
      "text/plain": [
       "['https://www.sec.gov/Archives/edgar/data/0000719955/000162828023019968/wsm-20230430.htm',\n",
       " 'https://www.sec.gov/Archives/edgar/data/0000719955/000162828022031309/wsm-20221030.htm',\n",
       " 'https://www.sec.gov/Archives/edgar/data/0000719955/000162828022024296/wsm-20220731.htm',\n",
       " 'https://www.sec.gov/Archives/edgar/data/0000719955/000162828022015963/wsm-20220501.htm',\n",
       " 'https://www.sec.gov/Archives/edgar/data/0000719955/000162828021024590/wsm-20211031.htm',\n",
       " 'https://www.sec.gov/Archives/edgar/data/0000719955/000162828021018335/wsm-20210801.htm',\n",
       " 'https://www.sec.gov/Archives/edgar/data/0000719955/000071995521000007/wsm-20210502.htm',\n",
       " 'https://www.sec.gov/Archives/edgar/data/0000719955/000119312520310847/d97689d10q.htm',\n",
       " 'https://www.sec.gov/Archives/edgar/data/0000719955/000119312520242226/d87421d10q.htm',\n",
       " 'https://www.sec.gov/Archives/edgar/data/0000719955/000119312520162400/d919457d10q.htm',\n",
       " 'https://www.sec.gov/Archives/edgar/data/0000719955/000119312519312802/d813200d10q.htm',\n",
       " 'https://www.sec.gov/Archives/edgar/data/0000719955/000119312519244032/d775044d10q.htm',\n",
       " 'https://www.sec.gov/Archives/edgar/data/0000719955/000119312519173782/d695195d10q.htm',\n",
       " 'https://www.sec.gov/Archives/edgar/data/0000719955/000119312518344956/d563678d10q.htm',\n",
       " 'https://www.sec.gov/Archives/edgar/data/0000719955/000119312518269283/d719214d10q.htm',\n",
       " 'https://www.sec.gov/Archives/edgar/data/0000719955/000119312518188149/d576497d10q.htm',\n",
       " 'https://www.sec.gov/Archives/edgar/data/0000719955/000119312517362895/d466116d10q.htm',\n",
       " 'https://www.sec.gov/Archives/edgar/data/0000719955/000119312517280597/d424250d10q.htm',\n",
       " 'https://www.sec.gov/Archives/edgar/data/0000719955/000119312517193009/d379443d10q.htm',\n",
       " 'https://www.sec.gov/Archives/edgar/data/0000719955/000119312516787485/d268653d10q.htm',\n",
       " 'https://www.sec.gov/Archives/edgar/data/0000719955/000119312516705229/d213509d10q.htm',\n",
       " 'https://www.sec.gov/Archives/edgar/data/0000719955/000119312516615301/d158004d10q.htm',\n",
       " 'https://www.sec.gov/Archives/edgar/data/0000719955/000119312515401464/d39336d10q.htm',\n",
       " 'https://www.sec.gov/Archives/edgar/data/0000719955/000119312515318468/d67876d10q.htm',\n",
       " 'https://www.sec.gov/Archives/edgar/data/0000719955/000119312515221829/d904614d10q.htm',\n",
       " 'https://www.sec.gov/Archives/edgar/data/0000719955/000119312514434838/d798275d10q.htm',\n",
       " 'https://www.sec.gov/Archives/edgar/data/0000719955/000119312514340359/d750811d10q.htm',\n",
       " 'https://www.sec.gov/Archives/edgar/data/0000719955/000119312514234823/d712968d10q.htm',\n",
       " 'https://www.sec.gov/Archives/edgar/data/0000719955/000119312513471753/d613006d10q.htm',\n",
       " 'https://www.sec.gov/Archives/edgar/data/0000719955/000119312513365277/d559865d10q.htm',\n",
       " 'https://www.sec.gov/Archives/edgar/data/0000719955/000119312513259605/d524416d10q.htm',\n",
       " 'https://www.sec.gov/Archives/edgar/data/0000719955/000119312512495336/d426549d10q.htm',\n",
       " 'https://www.sec.gov/Archives/edgar/data/0000719955/000119312512384913/d381230d10q.htm',\n",
       " 'https://www.sec.gov/Archives/edgar/data/0000719955/000119312512264683/d337810d10q.htm',\n",
       " 'https://www.sec.gov/Archives/edgar/data/0000719955/000119312511336247/d241494d10q.htm',\n",
       " 'https://www.sec.gov/Archives/edgar/data/0000719955/000119312511244225/d212431d10q.htm',\n",
       " 'https://www.sec.gov/Archives/edgar/data/0000719955/000119312511162733/d10q.htm',\n",
       " 'https://www.sec.gov/Archives/edgar/data/0000719955/000119312510278135/d10q.htm',\n",
       " 'https://www.sec.gov/Archives/edgar/data/0000719955/000119312510208171/d10q.htm',\n",
       " 'https://www.sec.gov/Archives/edgar/data/0000719955/000119312510137676/d10q.htm']"
      ]
     },
     "execution_count": 24,
     "metadata": {},
     "output_type": "execute_result"
    }
   ],
   "source": [
    "url10q"
   ]
  },
  {
   "cell_type": "code",
   "execution_count": 25,
   "metadata": {},
   "outputs": [],
   "source": [
    "response = requests.get(url10q[10], headers=headers)\n",
    "content = response.content\n",
    "bal, state = ps.parse_xml_from_content(content)"
   ]
  }
 ],
 "metadata": {
  "kernelspec": {
   "display_name": "FiPy",
   "language": "python",
   "name": "python3"
  },
  "language_info": {
   "codemirror_mode": {
    "name": "ipython",
    "version": 3
   },
   "file_extension": ".py",
   "mimetype": "text/x-python",
   "name": "python",
   "nbconvert_exporter": "python",
   "pygments_lexer": "ipython3",
   "version": "3.11.4"
  },
  "orig_nbformat": 4
 },
 "nbformat": 4,
 "nbformat_minor": 2
}
