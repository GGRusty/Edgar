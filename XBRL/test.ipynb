{
 "cells": [
  {
   "cell_type": "code",
   "execution_count": 2,
   "metadata": {},
   "outputs": [],
   "source": [
    "import pandas as pd"
   ]
  },
  {
   "cell_type": "code",
   "execution_count": 5,
   "metadata": {},
   "outputs": [],
   "source": [
    "wsm_data = pd.read_csv(\"../wsm_annual_edgar_facts.csv\")"
   ]
  },
  {
   "cell_type": "code",
   "execution_count": 7,
   "metadata": {},
   "outputs": [
    {
     "ename": "TypeError",
     "evalue": "XbrlParser.parse_instance() got an unexpected keyword argument 'headers'",
     "output_type": "error",
     "traceback": [
      "\u001b[0;31m---------------------------------------------------------------------------\u001b[0m",
      "\u001b[0;31mTypeError\u001b[0m                                 Traceback (most recent call last)",
      "Cell \u001b[0;32mIn[7], line 2\u001b[0m\n\u001b[1;32m      1\u001b[0m \u001b[39mfor\u001b[39;00m ticker \u001b[39min\u001b[39;00m subs\u001b[39m.\u001b[39mkeys():\n\u001b[0;32m----> 2\u001b[0m     instance: XbrlInstance \u001b[39m=\u001b[39m xbrlParser\u001b[39m.\u001b[39mparse_instance(subs[ticker], headers\u001b[39m=\u001b[39m{\u001b[39m\"\u001b[39m\u001b[39mUser-Agent\u001b[39m\u001b[39m\"\u001b[39m: \u001b[39m\"\u001b[39m\u001b[39mruss@sunriseanalysis.com\u001b[39m\u001b[39m\"\u001b[39m})\n",
      "\u001b[0;31mTypeError\u001b[0m: XbrlParser.parse_instance() got an unexpected keyword argument 'headers'"
     ]
    }
   ],
   "source": [
    "for ticker in subs.keys():\n",
    "    instance: XbrlInstance = xbrlParser.parse_instance(\n",
    "        subs[ticker], headers={\"User-Agent\": \"russ@sunriseanalysis.com\"}\n",
    "    )"
   ]
  },
  {
   "cell_type": "code",
   "execution_count": null,
   "metadata": {},
   "outputs": [],
   "source": []
  }
 ],
 "metadata": {
  "kernelspec": {
   "display_name": "Edgar",
   "language": "python",
   "name": "python3"
  },
  "language_info": {
   "codemirror_mode": {
    "name": "ipython",
    "version": 3
   },
   "file_extension": ".py",
   "mimetype": "text/x-python",
   "name": "python",
   "nbconvert_exporter": "python",
   "pygments_lexer": "ipython3",
   "version": "3.11.4"
  },
  "orig_nbformat": 4
 },
 "nbformat": 4,
 "nbformat_minor": 2
}
