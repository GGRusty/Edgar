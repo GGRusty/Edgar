{
 "cells": [
  {
   "cell_type": "code",
   "execution_count": 5,
   "metadata": {},
   "outputs": [],
   "source": [
    "from edgar_functions import *\n",
    "\n",
    "ticker = \"WSM\"\n",
    "statement_name = \"consolidated statements of operations\"\n",
    "# 'income statements'\n",
    "# \"consolidated statements of operations\"\n",
    "# \"consolidated statements of earnings\"\n",
    "\n",
    "# 'balance sheets'\n",
    "# \"consolidated balance sheets\"\n",
    "\n",
    "# 'cash flows statements'\n",
    "# \"consolidated statements of cash flows\"\n",
    "# 'consolidated statements of cash flows (unaudited)'"
   ]
  },
  {
   "cell_type": "code",
   "execution_count": 6,
   "metadata": {},
   "outputs": [
    {
     "data": {
      "text/plain": [
       "{'consolidated statements of earnings': 'R3.htm',\n",
       " 'consolidated statements of comprehensive income': 'R4.htm',\n",
       " 'consolidated statements of comprehensive income (parenthetical)': 'R5.htm',\n",
       " 'consolidated balance sheets': 'R6.htm',\n",
       " 'consolidated balance sheets (parenthetical)': 'R7.htm',\n",
       " \"consolidated statements of stockholders' equity\": 'R8.htm',\n",
       " 'consolidated statements of cash flows': 'R9.htm'}"
      ]
     },
     "execution_count": 6,
     "metadata": {},
     "output_type": "execute_result"
    }
   ],
   "source": [
    "acc_series = get_10K_accessionNumbers_for_ticker(ticker)\n",
    "acc_series = acc_series.apply(lambda x: x.replace(\"-\", \"\"))\n",
    "files = get_statement_file_names_in_filing_summary(ticker, acc_series[0])\n",
    "files"
   ]
  },
  {
   "cell_type": "code",
   "execution_count": null,
   "metadata": {},
   "outputs": [],
   "source": []
  },
  {
   "cell_type": "code",
   "execution_count": null,
   "metadata": {},
   "outputs": [],
   "source": [
    "# balance_sheet_merged = balance_sheet.T\n",
    "# balance_sheet_merged[\"us-gaap_TreasuryStockCommonValue\"] = balance_sheet_merged[\n",
    "#     \"us-gaap_TreasuryStockCommonValue\"\n",
    "# ].combine_first(balance_sheet_merged[\"us-gaap_TreasuryStockValue\"])\n",
    "# balance_sheet_merged[\n",
    "#     \"us-gaap_ContractWithCustomerLiabilityCurrent\"\n",
    "# ] = balance_sheet_merged[\"us-gaap_ContractWithCustomerLiabilityCurrent\"].combine_first(\n",
    "#     balance_sheet_merged[\"wsm_DeferredRevenuesAndCreditsCurrent\"]\n",
    "# )\n",
    "# balance_sheet_merged[\n",
    "#     \"us-gaap_ContractWithCustomerLiabilityCurrent\"\n",
    "# ] = balance_sheet_merged[\"us-gaap_ContractWithCustomerLiabilityCurrent\"].combine_first(\n",
    "#     balance_sheet_merged[\"us-gaap_DeferredRevenueAndCreditsCurrent\"]\n",
    "# )\n",
    "# balance_sheet_merged[\n",
    "#     \"wsm_DeferredLeaseIncentivesLiabilityNoncurrent\"\n",
    "# ] = balance_sheet_merged[\n",
    "#     \"wsm_DeferredLeaseIncentivesLiabilityNoncurrent\"\n",
    "# ].combine_first(\n",
    "#     balance_sheet_merged[\"wsm_DeferredRentAndLeaseIncentivesLiabilityNoncurrent\"]\n",
    "# )\n",
    "# balance_sheet_merged = balance_sheet_merged.drop(\n",
    "#     columns=[\n",
    "#         \"us-gaap_TreasuryStockValue\",\n",
    "#         \"us-gaap_DeferredRevenueAndCreditsCurrent\",\n",
    "#         \"wsm_DeferredRevenuesAndCreditsCurrent\",\n",
    "#         \"wsm_DeferredRentAndLeaseIncentivesLiabilityNoncurrent\",\n",
    "#     ]\n",
    "# )\n",
    "# balance_sheet_merged.T"
   ]
  }
 ],
 "metadata": {
  "kernelspec": {
   "display_name": "Edgar",
   "language": "python",
   "name": "python3"
  },
  "language_info": {
   "codemirror_mode": {
    "name": "ipython",
    "version": 3
   },
   "file_extension": ".py",
   "mimetype": "text/x-python",
   "name": "python",
   "nbconvert_exporter": "python",
   "pygments_lexer": "ipython3",
   "version": "3.11.5"
  },
  "orig_nbformat": 4
 },
 "nbformat": 4,
 "nbformat_minor": 2
}
