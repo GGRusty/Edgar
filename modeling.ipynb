{
 "cells": [
  {
   "cell_type": "code",
   "execution_count": null,
   "metadata": {},
   "outputs": [],
   "source": [
    "from edgar_functions import *\n",
    "from scorecard_naming import Balance_sheet_mapping, Income_statement_mapping, Cash_flow_mapping\n",
    "ticker = \"wsm\""
   ]
  },
  {
   "cell_type": "code",
   "execution_count": null,
   "metadata": {},
   "outputs": [],
   "source": [
    "income_sheet = form_statement_for_all_available_years(ticker, \"income_statement\")\n",
    "balance_sheet = form_statement_for_all_available_years(ticker, \"balance_sheet\")\n",
    "cash_flow_sheet = form_statement_for_all_available_years(ticker, \"cash_flow_statement\")\n",
    "# income_sheet_quarterly = form_statement_for_all_available_quarters(ticker, \"income_statement\")\n",
    "# balance_sheet_quarterly = form_statement_for_all_available_quarters(ticker, \"balance_sheet\")\n",
    "# cash_flow_sheet_quarterly = form_statement_for_all_available_quarters(ticker, \"cash_flow_statement\")"
   ]
  },
  {
   "cell_type": "code",
   "execution_count": null,
   "metadata": {},
   "outputs": [],
   "source": [
    "# acc_series = get_10K_accessionNumbers_for_ticker(ticker)\n",
    "# label_dict = get_label_dictionary(ticker, acc_series[0])\n",
    "# balance = rename_statement(balance_sheet, label_dict)\n",
    "# income = rename_statement(income_sheet, label_dict)\n",
    "# cash_flow = rename_statement(cash_flow_sheet, label_dict)\n",
    "# balance = balance.drop(balance_sheet.columns[-1], axis=1)\n",
    "# acc_series_quarterly = get_10Q_accessionNumbers_for_ticker(ticker)\n",
    "# label_dict_quarterly = get_label_dictionary(ticker, acc_series_quarterly[0])\n",
    "# balance_quarterly = rename_statement(balance_sheet_quarterly, label_dict_quarterly)\n",
    "# income_quarterly = rename_statement(income_sheet_quarterly, label_dict_quarterly)\n",
    "# cash_flow_quarterly = rename_statement(cash_flow_sheet_quarterly, label_dict_quarterly)"
   ]
  },
  {
   "cell_type": "code",
   "execution_count": null,
   "metadata": {},
   "outputs": [],
   "source": [
    "def create_simple_statement(statement, mapping):\n",
    "    statement = statement.T\n",
    "    new_statement = pd.DataFrame(index=statement.index, columns=mapping.keys())\n",
    "    for common_name, gaap_names in mapping.items():\n",
    "        for gaap_name in gaap_names:\n",
    "            if gaap_name in statement.columns:\n",
    "                if new_statement[common_name].isnull().all():\n",
    "                    new_statement[common_name] = statement[gaap_name]\n",
    "                else:\n",
    "                    new_statement[common_name].fillna(statement[gaap_name], inplace=True)\n",
    "    \n",
    "    return new_statement"
   ]
  },
  {
   "cell_type": "code",
   "execution_count": null,
   "metadata": {},
   "outputs": [],
   "source": [
    "new_income = create_simple_statement(income_sheet, Income_statement_mapping).replace(np.nan, 0)\n",
    "new_balance = create_simple_statement(balance_sheet, Balance_sheet_mapping).replace(np.nan, 0)\n",
    "new_cash_flow = create_simple_statement(cash_flow_sheet, Cash_flow_mapping).replace(np.nan, 0)"
   ]
  },
  {
   "cell_type": "code",
   "execution_count": null,
   "metadata": {},
   "outputs": [],
   "source": [
    "new_income"
   ]
  },
  {
   "cell_type": "code",
   "execution_count": null,
   "metadata": {},
   "outputs": [],
   "source": [
    "new_balance.T"
   ]
  },
  {
   "cell_type": "code",
   "execution_count": null,
   "metadata": {},
   "outputs": [],
   "source": [
    "new_cash_flow.T"
   ]
  }
 ],
 "metadata": {
  "kernelspec": {
   "display_name": "Edgar",
   "language": "python",
   "name": "python3"
  },
  "language_info": {
   "codemirror_mode": {
    "name": "ipython",
    "version": 3
   },
   "file_extension": ".py",
   "mimetype": "text/x-python",
   "name": "python",
   "nbconvert_exporter": "python",
   "pygments_lexer": "ipython3",
   "version": "3.11.5"
  },
  "orig_nbformat": 4
 },
 "nbformat": 4,
 "nbformat_minor": 2
}
