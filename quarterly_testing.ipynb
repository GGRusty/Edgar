{
 "cells": [
  {
   "cell_type": "code",
   "execution_count": 1,
   "metadata": {},
   "outputs": [],
   "source": [
    "from edgar_functions import *\n",
    "\n",
    "\n",
    "ticker = 'wsm'\n",
    "statement_name = 'cash_flow_statement'"
   ]
  },
  {
   "cell_type": "code",
   "execution_count": 2,
   "metadata": {},
   "outputs": [
    {
     "name": "stdout",
     "output_type": "stream",
     "text": [
      "income_statement for accession number: 000162828023009175 has been processed.\n",
      "income_statement for accession number: 000162828022007494 has been processed.\n",
      "income_statement for accession number: 000119312521100319 has been processed.\n",
      "income_statement for accession number: 000119312520088937 has been processed.\n",
      "income_statement for accession number: 000119312519097973 has been processed.\n",
      "income_statement for accession number: 000119312518102232 has been processed.\n",
      "income_statement for accession number: 000119312517104341 has been processed.\n",
      "income_statement for accession number: 000119312516525847 has been processed.\n",
      "income_statement for accession number: 000119312515118009 has been processed.\n",
      "income_statement for accession number: 000119312514129974 has been processed.\n",
      "income_statement for accession number: 000119312513142309 has been processed.\n",
      "income_statement for accession number: 000119312512140070 has been processed.\n"
     ]
    },
    {
     "name": "stderr",
     "output_type": "stream",
     "text": [
      "WARNING:root:Empty DataFrame for accession number: 000119312511085046\n"
     ]
    },
    {
     "name": "stdout",
     "output_type": "stream",
     "text": [
      "income_statement for accession number: 000119312511085046 has been processed.\n"
     ]
    },
    {
     "name": "stderr",
     "output_type": "stream",
     "text": [
      "ERROR:root:Failed to get statement soup: Could not find statement with name income_statement for accession number: 000119312510075151\n"
     ]
    },
    {
     "name": "stdout",
     "output_type": "stream",
     "text": [
      "income_statement for accession number: 000119312510075151 has been processed.\n",
      "balance_sheet for accession number: 000162828023009175 has been processed.\n",
      "balance_sheet for accession number: 000162828022007494 has been processed.\n",
      "balance_sheet for accession number: 000119312521100319 has been processed.\n",
      "balance_sheet for accession number: 000119312520088937 has been processed.\n",
      "balance_sheet for accession number: 000119312519097973 has been processed.\n",
      "balance_sheet for accession number: 000119312518102232 has been processed.\n",
      "balance_sheet for accession number: 000119312517104341 has been processed.\n",
      "balance_sheet for accession number: 000119312516525847 has been processed.\n",
      "balance_sheet for accession number: 000119312515118009 has been processed.\n",
      "balance_sheet for accession number: 000119312514129974 has been processed.\n",
      "balance_sheet for accession number: 000119312513142309 has been processed.\n",
      "balance_sheet for accession number: 000119312512140070 has been processed.\n"
     ]
    },
    {
     "name": "stderr",
     "output_type": "stream",
     "text": [
      "WARNING:root:Empty DataFrame for accession number: 000119312511085046\n"
     ]
    },
    {
     "name": "stdout",
     "output_type": "stream",
     "text": [
      "balance_sheet for accession number: 000119312511085046 has been processed.\n"
     ]
    },
    {
     "name": "stderr",
     "output_type": "stream",
     "text": [
      "ERROR:root:Failed to get statement soup: Could not find statement with name balance_sheet for accession number: 000119312510075151\n"
     ]
    },
    {
     "name": "stdout",
     "output_type": "stream",
     "text": [
      "balance_sheet for accession number: 000119312510075151 has been processed.\n",
      "cash_flow_statement for accession number: 000162828023009175 has been processed.\n",
      "cash_flow_statement for accession number: 000162828022007494 has been processed.\n",
      "cash_flow_statement for accession number: 000119312521100319 has been processed.\n",
      "cash_flow_statement for accession number: 000119312520088937 has been processed.\n",
      "cash_flow_statement for accession number: 000119312519097973 has been processed.\n",
      "cash_flow_statement for accession number: 000119312518102232 has been processed.\n",
      "cash_flow_statement for accession number: 000119312517104341 has been processed.\n",
      "cash_flow_statement for accession number: 000119312516525847 has been processed.\n",
      "cash_flow_statement for accession number: 000119312515118009 has been processed.\n",
      "cash_flow_statement for accession number: 000119312514129974 has been processed.\n",
      "cash_flow_statement for accession number: 000119312513142309 has been processed.\n",
      "cash_flow_statement for accession number: 000119312512140070 has been processed.\n"
     ]
    },
    {
     "name": "stderr",
     "output_type": "stream",
     "text": [
      "WARNING:root:Empty DataFrame for accession number: 000119312511085046\n"
     ]
    },
    {
     "name": "stdout",
     "output_type": "stream",
     "text": [
      "cash_flow_statement for accession number: 000119312511085046 has been processed.\n"
     ]
    },
    {
     "name": "stderr",
     "output_type": "stream",
     "text": [
      "ERROR:root:Failed to get statement soup: Could not find statement with name cash_flow_statement for accession number: 000119312510075151\n"
     ]
    },
    {
     "name": "stdout",
     "output_type": "stream",
     "text": [
      "cash_flow_statement for accession number: 000119312510075151 has been processed.\n",
      "income_statement for accession number: 000162828023031270 has been processed.\n",
      "income_statement for accession number: 000162828023019968 has been processed.\n",
      "income_statement for accession number: 000162828022031309 has been processed.\n",
      "income_statement for accession number: 000162828022024296 has been processed.\n",
      "income_statement for accession number: 000162828022015963 has been processed.\n",
      "income_statement for accession number: 000162828021024590 has been processed.\n",
      "income_statement for accession number: 000162828021018335 has been processed.\n",
      "income_statement for accession number: 000071995521000007 has been processed.\n",
      "income_statement for accession number: 000119312520310847 has been processed.\n",
      "income_statement for accession number: 000119312520242226 has been processed.\n",
      "income_statement for accession number: 000119312520162400 has been processed.\n",
      "income_statement for accession number: 000119312519312802 has been processed.\n",
      "income_statement for accession number: 000119312519244032 has been processed.\n",
      "income_statement for accession number: 000119312519173782 has been processed.\n",
      "income_statement for accession number: 000119312518344956 has been processed.\n",
      "income_statement for accession number: 000119312518269283 has been processed.\n",
      "income_statement for accession number: 000119312518188149 has been processed.\n",
      "income_statement for accession number: 000119312517362895 has been processed.\n",
      "income_statement for accession number: 000119312517280597 has been processed.\n",
      "income_statement for accession number: 000119312517193009 has been processed.\n",
      "income_statement for accession number: 000119312516787485 has been processed.\n",
      "income_statement for accession number: 000119312516705229 has been processed.\n",
      "income_statement for accession number: 000119312516615301 has been processed.\n",
      "income_statement for accession number: 000119312515401464 has been processed.\n",
      "income_statement for accession number: 000119312515318468 has been processed.\n",
      "income_statement for accession number: 000119312515221829 has been processed.\n",
      "income_statement for accession number: 000119312514434838 has been processed.\n",
      "income_statement for accession number: 000119312514340359 has been processed.\n",
      "income_statement for accession number: 000119312514234823 has been processed.\n",
      "income_statement for accession number: 000119312513471753 has been processed.\n",
      "income_statement for accession number: 000119312513365277 has been processed.\n",
      "income_statement for accession number: 000119312513259605 has been processed.\n",
      "income_statement for accession number: 000119312512495336 has been processed.\n",
      "income_statement for accession number: 000119312512384913 has been processed.\n",
      "income_statement for accession number: 000119312512264683 has been processed.\n",
      "income_statement for accession number: 000119312511336247 has been processed.\n",
      "income_statement for accession number: 000119312511244225 has been processed.\n",
      "income_statement for accession number: 000119312511162733 has been processed.\n"
     ]
    },
    {
     "name": "stderr",
     "output_type": "stream",
     "text": [
      "ERROR:root:Failed to get statement soup: Could not find statement with name income_statement for accession number: 000119312510278135\n"
     ]
    },
    {
     "name": "stdout",
     "output_type": "stream",
     "text": [
      "income_statement for accession number: 000119312510278135 has been processed.\n"
     ]
    },
    {
     "name": "stderr",
     "output_type": "stream",
     "text": [
      "ERROR:root:Failed to get statement soup: Could not find statement with name income_statement for accession number: 000119312510208171\n"
     ]
    },
    {
     "name": "stdout",
     "output_type": "stream",
     "text": [
      "income_statement for accession number: 000119312510208171 has been processed.\n"
     ]
    },
    {
     "name": "stderr",
     "output_type": "stream",
     "text": [
      "ERROR:root:Failed to get statement soup: Could not find statement with name income_statement for accession number: 000119312510137676\n"
     ]
    },
    {
     "name": "stdout",
     "output_type": "stream",
     "text": [
      "income_statement for accession number: 000119312510137676 has been processed.\n",
      "balance_sheet for accession number: 000162828023031270 has been processed.\n",
      "balance_sheet for accession number: 000162828023019968 has been processed.\n",
      "balance_sheet for accession number: 000162828022031309 has been processed.\n",
      "balance_sheet for accession number: 000162828022024296 has been processed.\n",
      "balance_sheet for accession number: 000162828022015963 has been processed.\n",
      "balance_sheet for accession number: 000162828021024590 has been processed.\n",
      "balance_sheet for accession number: 000162828021018335 has been processed.\n",
      "balance_sheet for accession number: 000071995521000007 has been processed.\n",
      "balance_sheet for accession number: 000119312520310847 has been processed.\n",
      "balance_sheet for accession number: 000119312520242226 has been processed.\n",
      "balance_sheet for accession number: 000119312520162400 has been processed.\n",
      "balance_sheet for accession number: 000119312519312802 has been processed.\n",
      "balance_sheet for accession number: 000119312519244032 has been processed.\n",
      "balance_sheet for accession number: 000119312519173782 has been processed.\n",
      "balance_sheet for accession number: 000119312518344956 has been processed.\n",
      "balance_sheet for accession number: 000119312518269283 has been processed.\n",
      "balance_sheet for accession number: 000119312518188149 has been processed.\n",
      "balance_sheet for accession number: 000119312517362895 has been processed.\n",
      "balance_sheet for accession number: 000119312517280597 has been processed.\n",
      "balance_sheet for accession number: 000119312517193009 has been processed.\n",
      "balance_sheet for accession number: 000119312516787485 has been processed.\n",
      "balance_sheet for accession number: 000119312516705229 has been processed.\n",
      "balance_sheet for accession number: 000119312516615301 has been processed.\n",
      "balance_sheet for accession number: 000119312515401464 has been processed.\n",
      "balance_sheet for accession number: 000119312515318468 has been processed.\n",
      "balance_sheet for accession number: 000119312515221829 has been processed.\n",
      "balance_sheet for accession number: 000119312514434838 has been processed.\n",
      "balance_sheet for accession number: 000119312514340359 has been processed.\n",
      "balance_sheet for accession number: 000119312514234823 has been processed.\n",
      "balance_sheet for accession number: 000119312513471753 has been processed.\n",
      "balance_sheet for accession number: 000119312513365277 has been processed.\n",
      "balance_sheet for accession number: 000119312513259605 has been processed.\n",
      "balance_sheet for accession number: 000119312512495336 has been processed.\n",
      "balance_sheet for accession number: 000119312512384913 has been processed.\n",
      "balance_sheet for accession number: 000119312512264683 has been processed.\n",
      "balance_sheet for accession number: 000119312511336247 has been processed.\n",
      "balance_sheet for accession number: 000119312511244225 has been processed.\n",
      "balance_sheet for accession number: 000119312511162733 has been processed.\n"
     ]
    },
    {
     "name": "stderr",
     "output_type": "stream",
     "text": [
      "WARNING:root:Empty DataFrame for accession number: 000119312510278135\n"
     ]
    },
    {
     "name": "stdout",
     "output_type": "stream",
     "text": [
      "balance_sheet for accession number: 000119312510278135 has been processed.\n"
     ]
    },
    {
     "name": "stderr",
     "output_type": "stream",
     "text": [
      "WARNING:root:Empty DataFrame for accession number: 000119312510208171\n"
     ]
    },
    {
     "name": "stdout",
     "output_type": "stream",
     "text": [
      "balance_sheet for accession number: 000119312510208171 has been processed.\n"
     ]
    },
    {
     "name": "stderr",
     "output_type": "stream",
     "text": [
      "ERROR:root:Failed to get statement soup: Could not find statement with name balance_sheet for accession number: 000119312510137676\n"
     ]
    },
    {
     "name": "stdout",
     "output_type": "stream",
     "text": [
      "balance_sheet for accession number: 000119312510137676 has been processed.\n",
      "cash_flow_statement for accession number: 000162828023031270 has been processed.\n",
      "cash_flow_statement for accession number: 000162828023019968 has been processed.\n",
      "cash_flow_statement for accession number: 000162828022031309 has been processed.\n",
      "cash_flow_statement for accession number: 000162828022024296 has been processed.\n",
      "cash_flow_statement for accession number: 000162828022015963 has been processed.\n",
      "cash_flow_statement for accession number: 000162828021024590 has been processed.\n",
      "cash_flow_statement for accession number: 000162828021018335 has been processed.\n",
      "cash_flow_statement for accession number: 000071995521000007 has been processed.\n",
      "cash_flow_statement for accession number: 000119312520310847 has been processed.\n",
      "cash_flow_statement for accession number: 000119312520242226 has been processed.\n",
      "cash_flow_statement for accession number: 000119312520162400 has been processed.\n",
      "cash_flow_statement for accession number: 000119312519312802 has been processed.\n",
      "cash_flow_statement for accession number: 000119312519244032 has been processed.\n",
      "cash_flow_statement for accession number: 000119312519173782 has been processed.\n",
      "cash_flow_statement for accession number: 000119312518344956 has been processed.\n",
      "cash_flow_statement for accession number: 000119312518269283 has been processed.\n",
      "cash_flow_statement for accession number: 000119312518188149 has been processed.\n",
      "cash_flow_statement for accession number: 000119312517362895 has been processed.\n",
      "cash_flow_statement for accession number: 000119312517280597 has been processed.\n",
      "cash_flow_statement for accession number: 000119312517193009 has been processed.\n",
      "cash_flow_statement for accession number: 000119312516787485 has been processed.\n",
      "cash_flow_statement for accession number: 000119312516705229 has been processed.\n",
      "cash_flow_statement for accession number: 000119312516615301 has been processed.\n",
      "cash_flow_statement for accession number: 000119312515401464 has been processed.\n",
      "cash_flow_statement for accession number: 000119312515318468 has been processed.\n",
      "cash_flow_statement for accession number: 000119312515221829 has been processed.\n",
      "cash_flow_statement for accession number: 000119312514434838 has been processed.\n",
      "cash_flow_statement for accession number: 000119312514340359 has been processed.\n",
      "cash_flow_statement for accession number: 000119312514234823 has been processed.\n",
      "cash_flow_statement for accession number: 000119312513471753 has been processed.\n",
      "cash_flow_statement for accession number: 000119312513365277 has been processed.\n",
      "cash_flow_statement for accession number: 000119312513259605 has been processed.\n",
      "cash_flow_statement for accession number: 000119312512495336 has been processed.\n",
      "cash_flow_statement for accession number: 000119312512384913 has been processed.\n",
      "cash_flow_statement for accession number: 000119312512264683 has been processed.\n",
      "cash_flow_statement for accession number: 000119312511336247 has been processed.\n",
      "cash_flow_statement for accession number: 000119312511244225 has been processed.\n",
      "cash_flow_statement for accession number: 000119312511162733 has been processed.\n"
     ]
    },
    {
     "name": "stderr",
     "output_type": "stream",
     "text": [
      "WARNING:root:Empty DataFrame for accession number: 000119312510278135\n"
     ]
    },
    {
     "name": "stdout",
     "output_type": "stream",
     "text": [
      "cash_flow_statement for accession number: 000119312510278135 has been processed.\n"
     ]
    },
    {
     "name": "stderr",
     "output_type": "stream",
     "text": [
      "WARNING:root:Empty DataFrame for accession number: 000119312510208171\n"
     ]
    },
    {
     "name": "stdout",
     "output_type": "stream",
     "text": [
      "cash_flow_statement for accession number: 000119312510208171 has been processed.\n"
     ]
    },
    {
     "name": "stderr",
     "output_type": "stream",
     "text": [
      "ERROR:root:Failed to get statement soup: Could not find statement with name cash_flow_statement for accession number: 000119312510137676\n"
     ]
    },
    {
     "name": "stdout",
     "output_type": "stream",
     "text": [
      "cash_flow_statement for accession number: 000119312510137676 has been processed.\n"
     ]
    }
   ],
   "source": [
    "store_balance_income_cf_for_all_quarters_and_years(ticker)"
   ]
  },
  {
   "cell_type": "code",
   "execution_count": null,
   "metadata": {},
   "outputs": [],
   "source": [
    "accession_number_series = get_10Q_accessionNumbers_for_ticker(ticker)"
   ]
  },
  {
   "cell_type": "code",
   "execution_count": null,
   "metadata": {},
   "outputs": [],
   "source": [
    "get_statement_file_names_in_filing_summary(ticker, accession_number_series[0])"
   ]
  },
  {
   "cell_type": "code",
   "execution_count": null,
   "metadata": {},
   "outputs": [],
   "source": [
    "soup = get_statement_soup(ticker, accession_number_series[5], statement_name)"
   ]
  },
  {
   "cell_type": "code",
   "execution_count": null,
   "metadata": {},
   "outputs": [],
   "source": [
    "get_datetime_index_dates_from_statement(soup)"
   ]
  },
  {
   "cell_type": "code",
   "execution_count": null,
   "metadata": {},
   "outputs": [],
   "source": [
    "all_statements = form_statement_for_all_available_quarters(ticker, statement_name)"
   ]
  },
  {
   "cell_type": "code",
   "execution_count": null,
   "metadata": {},
   "outputs": [],
   "source": [
    "all_statements"
   ]
  }
 ],
 "metadata": {
  "kernelspec": {
   "display_name": "Edgar",
   "language": "python",
   "name": "python3"
  },
  "language_info": {
   "codemirror_mode": {
    "name": "ipython",
    "version": 3
   },
   "file_extension": ".py",
   "mimetype": "text/x-python",
   "name": "python",
   "nbconvert_exporter": "python",
   "pygments_lexer": "ipython3",
   "version": "3.11.5"
  },
  "orig_nbformat": 4
 },
 "nbformat": 4,
 "nbformat_minor": 2
}
