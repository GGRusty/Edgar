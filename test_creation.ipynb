{
 "cells": [
  {
   "cell_type": "code",
   "execution_count": 4,
   "metadata": {},
   "outputs": [],
   "source": [
    "import pandas as pd\n",
    "import time\n",
    "from edgar_functions import *"
   ]
  },
  {
   "cell_type": "code",
   "execution_count": 44,
   "metadata": {},
   "outputs": [
    {
     "data": {
      "text/plain": [
       "{'consolidated balance sheets': 'R3.htm',\n",
       " 'consolidated balance sheets (parenthetical)': 'R4.htm',\n",
       " 'consolidated statements of comprehensive income': 'R5.htm',\n",
       " 'consolidated statements of comprehensive income (parenthetical)': 'R6.htm',\n",
       " 'consolidated statements of cash flows': 'R7.htm',\n",
       " 'consolidated statements of cash flows (unaudited) (parenthetical)': 'R8.htm',\n",
       " 'consolidated statement of stockholders??? equity': 'R9.htm',\n",
       " 'consolidated statement of stockholders??? equity (parenthetical)': 'R10.htm',\n",
       " 'additional financial information - supplemental consolidated statements of cash flows information (details)': 'R118.htm'}"
      ]
     },
     "execution_count": 44,
     "metadata": {},
     "output_type": "execute_result"
    }
   ],
   "source": [
    "ticker = \"TMUS\"\n",
    "acc_series = get_10K_accessionNumbers_for_ticker(ticker)\n",
    "get_statement_file_names_in_filing_summary(ticker, acc_series[0])"
   ]
  },
  {
   "cell_type": "code",
   "execution_count": 2,
   "metadata": {},
   "outputs": [],
   "source": [
    "soup = get_statement_soup(ticker, acc_series[0], \"balance_sheet\")"
   ]
  },
  {
   "cell_type": "code",
   "execution_count": null,
   "metadata": {},
   "outputs": [],
   "source": []
  }
 ],
 "metadata": {
  "kernelspec": {
   "display_name": "Edgar",
   "language": "python",
   "name": "python3"
  },
  "language_info": {
   "codemirror_mode": {
    "name": "ipython",
    "version": 3
   },
   "file_extension": ".py",
   "mimetype": "text/x-python",
   "name": "python",
   "nbconvert_exporter": "python",
   "pygments_lexer": "ipython3",
   "version": "3.11.5"
  },
  "orig_nbformat": 4
 },
 "nbformat": 4,
 "nbformat_minor": 2
}
